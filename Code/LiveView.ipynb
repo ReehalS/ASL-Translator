{
 "cells": [
  {
   "cell_type": "code",
   "execution_count": 1,
   "metadata": {},
   "outputs": [
    {
     "name": "stderr",
     "output_type": "stream",
     "text": [
      "WARNING: All log messages before absl::InitializeLog() is called are written to STDERR\n",
      "I0000 00:00:1740536818.477041 18090294 gl_context.cc:369] GL version: 2.1 (2.1 Metal - 89.3), renderer: Apple M4 Pro\n",
      "INFO: Created TensorFlow Lite XNNPACK delegate for CPU.\n",
      "W0000 00:00:1740536818.485120 18090567 inference_feedback_manager.cc:114] Feedback manager requires a model with a single signature inference. Disabling support for feedback tensors.\n",
      "W0000 00:00:1740536818.491093 18090567 inference_feedback_manager.cc:114] Feedback manager requires a model with a single signature inference. Disabling support for feedback tensors.\n",
      "2025-02-25 18:26:59.574 python[53905:18090294] +[IMKClient subclass]: chose IMKClient_Modern\n",
      "2025-02-25 18:26:59.574 python[53905:18090294] +[IMKInputSession subclass]: chose IMKInputSession_Modern\n",
      "W0000 00:00:1740536819.945755 18090573 landmark_projection_calculator.cc:186] Using NORM_RECT without IMAGE_DIMENSIONS is only supported for the square ROI. Provide IMAGE_DIMENSIONS or use PROJECTION_MATRIX.\n"
     ]
    }
   ],
   "source": [
    "import cv2\n",
    "import joblib\n",
    "import mediapipe as mp\n",
    "import numpy as np\n",
    "\n",
    "# Load the trained model\n",
    "model_path = \"../Dataset/Generated_Data/mlp_classifier_best_params.pkl\"\n",
    "mlp_model = joblib.load(model_path)\n",
    "\n",
    "# Initialize MediaPipe Hands\n",
    "mp_hands = mp.solutions.hands\n",
    "hands = mp_hands.Hands(static_image_mode=False, max_num_hands=1, min_detection_confidence=0.7)\n",
    "mp_drawing = mp.solutions.drawing_utils\n",
    "\n",
    "# Load class labels\n",
    "class_labels = ['A', 'B', 'C', 'D', 'E', 'F', 'G', 'H', 'I', 'J', 'K', 'L', 'M', 'N', 'O', 'P', 'Q', 'R',\n",
    "                'S', 'T', 'U', 'V', 'W', 'X', 'Y', 'Z', 'del', 'space']  # Adjust based on your dataset labels\n",
    "\n",
    "def extract_hand_landmarks(image):\n",
    "    \"\"\"Extracts 21 hand landmarks from the given image.\"\"\"\n",
    "    image_rgb = cv2.cvtColor(image, cv2.COLOR_BGR2RGB)\n",
    "    results = hands.process(image_rgb)\n",
    "\n",
    "    if results.multi_hand_landmarks:\n",
    "        landmarks = results.multi_hand_landmarks[0]\n",
    "        data = []\n",
    "        for landmark in landmarks.landmark:\n",
    "            data.append(landmark.x)\n",
    "            data.append(landmark.y)\n",
    "        return np.array(data).reshape(1, -1)  # Reshape for model input\n",
    "    return None\n",
    "\n",
    "# Open webcam\n",
    "cap = cv2.VideoCapture(0)\n",
    "\n",
    "while cap.isOpened():\n",
    "    ret, frame = cap.read()\n",
    "    if not ret:\n",
    "        break\n",
    "\n",
    "    # Flip image for natural hand positioning\n",
    "    frame = cv2.flip(frame, 1)\n",
    "\n",
    "    # Extract hand landmarks\n",
    "    landmarks = extract_hand_landmarks(frame)\n",
    "\n",
    "    if landmarks is not None:\n",
    "        # Make prediction\n",
    "        prediction = mlp_model.predict(landmarks)\n",
    "        predicted_label = prediction[0]\n",
    "\n",
    "        # Draw label on the frame\n",
    "        cv2.putText(frame, f'Prediction: {predicted_label}', (10, 50),\n",
    "                    cv2.FONT_HERSHEY_SIMPLEX, 1, (0, 255, 0), 2, cv2.LINE_AA)\n",
    "\n",
    "    # Display the video feed\n",
    "    cv2.imshow(\"ASL Hand Sign Prediction\", frame)\n",
    "\n",
    "    # Press 'q' to exit\n",
    "    if cv2.waitKey(1) & 0xFF == ord('q'):\n",
    "        break\n",
    "\n",
    "# Release resources\n",
    "cap.release()\n",
    "cv2.destroyAllWindows()\n"
   ]
  }
 ],
 "metadata": {
  "kernelspec": {
   "display_name": "ASL-Translator",
   "language": "python",
   "name": "python3"
  },
  "language_info": {
   "codemirror_mode": {
    "name": "ipython",
    "version": 3
   },
   "file_extension": ".py",
   "mimetype": "text/x-python",
   "name": "python",
   "nbconvert_exporter": "python",
   "pygments_lexer": "ipython3",
   "version": "3.9.21"
  }
 },
 "nbformat": 4,
 "nbformat_minor": 2
}
