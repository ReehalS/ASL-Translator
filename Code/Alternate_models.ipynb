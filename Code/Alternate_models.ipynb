{
 "cells": [
  {
   "cell_type": "code",
   "execution_count": 3,
   "metadata": {},
   "outputs": [
    {
     "name": "stdout",
     "output_type": "stream",
     "text": [
      "Test Accuracy: 0.9887\n",
      "Random Forest model saved to '../Models/random_forest_100p.pkl'\n"
     ]
    }
   ],
   "source": [
    "# Random forest with the best results from grid search\n",
    "\n",
    "import pandas as pd\n",
    "from sklearn.ensemble import RandomForestClassifier\n",
    "from sklearn.model_selection import train_test_split\n",
    "import joblib\n",
    "\n",
    "# Load the dataset (update the CSV path as needed)\n",
    "csv_path = \"../Dataset/Generated_Data/hand_landmark_20250225_163702.csv\"\n",
    "df = pd.read_csv(csv_path)\n",
    "\n",
    "# Separate features and labels\n",
    "X = df.drop(columns=['label'])\n",
    "y = df['label']\n",
    "\n",
    "# Split data into training and test sets (20% test split)\n",
    "X_train, X_test, y_train, y_test = train_test_split(X, y, test_size=0.3, random_state=42)\n",
    "\n",
    "# Create a Random Forest classifier with the best parameters\n",
    "# rf_model = RandomForestClassifier(\n",
    "#     max_depth=None,\n",
    "#     max_features='sqrt',\n",
    "#     min_samples_leaf=1,\n",
    "#     min_samples_split=2,\n",
    "#     n_estimators=100,\n",
    "#     random_state=42\n",
    "# )\n",
    "\n",
    "rf_model = RandomForestClassifier(n_estimators=100, random_state=42)\n",
    "# Train the model\n",
    "rf_model.fit(X_train, y_train)\n",
    "\n",
    "# Optionally, evaluate the model on the test set\n",
    "test_accuracy = rf_model.score(X_test, y_test)\n",
    "print(f\"Test Accuracy: {test_accuracy:.4f}\")\n",
    "\n",
    "# Save the trained model to a file\n",
    "joblib.dump(rf_model, \"../Models/random_forest_100p.pkl\")\n",
    "print(\"Random Forest model saved to '../Models/random_forest_100p.pkl'\")\n"
   ]
  }
 ],
 "metadata": {
  "kernelspec": {
   "display_name": "ASL-Translator",
   "language": "python",
   "name": "python3"
  },
  "language_info": {
   "codemirror_mode": {
    "name": "ipython",
    "version": 3
   },
   "file_extension": ".py",
   "mimetype": "text/x-python",
   "name": "python",
   "nbconvert_exporter": "python",
   "pygments_lexer": "ipython3",
   "version": "3.9.21"
  }
 },
 "nbformat": 4,
 "nbformat_minor": 2
}
